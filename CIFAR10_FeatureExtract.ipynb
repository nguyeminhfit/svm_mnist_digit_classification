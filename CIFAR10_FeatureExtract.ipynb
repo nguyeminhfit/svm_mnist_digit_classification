{
  "nbformat": 4,
  "nbformat_minor": 0,
  "metadata": {
    "colab": {
      "name": "CIFAR10 -FeatureExtract",
      "provenance": [],
      "collapsed_sections": [],
      "include_colab_link": true
    },
    "kernelspec": {
      "name": "python3",
      "display_name": "Python 3"
    },
    "accelerator": "GPU"
  },
  "cells": [
    {
      "cell_type": "markdown",
      "metadata": {
        "id": "view-in-github",
        "colab_type": "text"
      },
      "source": [
        "<a href=\"https://colab.research.google.com/github/nguyeminhfit/svm_mnist_digit_classification/blob/master/CIFAR10_FeatureExtract.ipynb\" target=\"_parent\"><img src=\"https://colab.research.google.com/assets/colab-badge.svg\" alt=\"Open In Colab\"/></a>"
      ]
    },
    {
      "cell_type": "code",
      "metadata": {
        "id": "dcWeFqmvMONQ",
        "colab": {
          "base_uri": "https://localhost:8080/",
          "height": 34
        },
        "outputId": "941d06f5-090d-42b6-ccab-6003366562b9"
      },
      "source": [
        "#Load CIFAR10 dataset\n",
        "# Dataset of 50,000 32x32 color training images, labeled over 10 categories, and 10,000 test images.\n",
        "from keras.datasets import cifar10\n",
        "(x_train, y_train), (x_test, y_test) = cifar10.load_data()"
      ],
      "execution_count": null,
      "outputs": [
        {
          "output_type": "stream",
          "text": [
            "Using TensorFlow backend.\n"
          ],
          "name": "stderr"
        }
      ]
    },
    {
      "cell_type": "code",
      "metadata": {
        "id": "jFvBEZRiMjrI",
        "colab": {
          "base_uri": "https://localhost:8080/",
          "height": 34
        },
        "outputId": "66ac4c78-559c-41f3-eff1-feba8dfbc581"
      },
      "source": [
        "import numpy as np\n",
        "print(x_train.shape,y_train.shape,x_test.shape, y_test.shape)"
      ],
      "execution_count": null,
      "outputs": [
        {
          "output_type": "stream",
          "text": [
            "(50000, 32, 32, 3) (50000, 1) (10000, 32, 32, 3) (10000, 1)\n"
          ],
          "name": "stdout"
        }
      ]
    },
    {
      "cell_type": "code",
      "metadata": {
        "id": "NX6SubDqMb84",
        "colab": {
          "base_uri": "https://localhost:8080/",
          "height": 34
        },
        "outputId": "5082cd62-db3e-4191-ffc7-68c0ec5d0020"
      },
      "source": [
        "from keras.utils import to_categorical\n",
        "train_lbl = to_categorical(y_train)\n",
        "test_lbl = to_categorical(y_test)"
      ],
      "execution_count": null,
      "outputs": [
        {
          "output_type": "execute_result",
          "data": {
            "text/plain": [
              "(50000, 10)"
            ]
          },
          "metadata": {
            "tags": []
          },
          "execution_count": 6
        }
      ]
    },
    {
      "cell_type": "code",
      "metadata": {
        "id": "Bq02de9KMdlg",
        "colab": {
          "base_uri": "https://localhost:8080/",
          "height": 603
        },
        "outputId": "519eb159-e3ae-4fee-967d-c5a0e0bc2b6a"
      },
      "source": [
        "from tensorflow.keras.layers import *\n",
        "from tensorflow.keras.models import Model\n",
        "\n",
        "\n",
        "input_layer = Input(shape=(32,32,3))\n",
        "\n",
        "conv_layer1 = Conv2D(100,(5,5),activation=\"relu\",padding=\"same\")(input_layer)\n",
        "pooling_layer1 = MaxPooling2D((2,2))(conv_layer1)\n",
        "\n",
        "conv_layer2 = Conv2D(100,(3,3),activation=\"relu\",padding=\"same\")(conv_layer1)\n",
        "pooling_layer2 = MaxPooling2D((2,2))(conv_layer2)\n",
        "\n",
        "flatten_layer = Flatten()(pooling_layer2)\n",
        "dense_layer1 = Dense(50, activation=\"relu\",name=\"dense1\")(flatten_layer)\n",
        "dense_layer2 = Dense(10, activation=\"softmax\")(dense_layer1)\n",
        "\n",
        "model = Model(inputs=input_layer, outputs=dense_layer2)\n",
        "model.compile(loss='categorical_crossentropy', optimizer=\"adam\",metrics=[\"accuracy\"])\n",
        "model.summary()\n",
        "model.fit(x_train,train_lbl,validation_data=(x_test,test_lbl), epochs= 5, batch_size=100)\n"
      ],
      "execution_count": null,
      "outputs": [
        {
          "output_type": "stream",
          "text": [
            "Model: \"model_30\"\n",
            "_________________________________________________________________\n",
            "Layer (type)                 Output Shape              Param #   \n",
            "=================================================================\n",
            "input_15 (InputLayer)        [(None, 32, 32, 3)]       0         \n",
            "_________________________________________________________________\n",
            "conv2d_19 (Conv2D)           (None, 32, 32, 100)       7600      \n",
            "_________________________________________________________________\n",
            "conv2d_20 (Conv2D)           (None, 32, 32, 100)       90100     \n",
            "_________________________________________________________________\n",
            "max_pooling2d_20 (MaxPooling (None, 16, 16, 100)       0         \n",
            "_________________________________________________________________\n",
            "flatten_14 (Flatten)         (None, 25600)             0         \n",
            "_________________________________________________________________\n",
            "dense1 (Dense)               (None, 50)                1280050   \n",
            "_________________________________________________________________\n",
            "dense_30 (Dense)             (None, 10)                510       \n",
            "=================================================================\n",
            "Total params: 1,378,260\n",
            "Trainable params: 1,378,260\n",
            "Non-trainable params: 0\n",
            "_________________________________________________________________\n",
            "Epoch 1/5\n",
            "500/500 [==============================] - 12s 24ms/step - loss: 3.3277 - accuracy: 0.2743 - val_loss: 1.7801 - val_accuracy: 0.3524\n",
            "Epoch 2/5\n",
            "500/500 [==============================] - 12s 24ms/step - loss: 1.6435 - accuracy: 0.4071 - val_loss: 1.5423 - val_accuracy: 0.4469\n",
            "Epoch 3/5\n",
            "500/500 [==============================] - 12s 24ms/step - loss: 1.5010 - accuracy: 0.4644 - val_loss: 1.5051 - val_accuracy: 0.4631\n",
            "Epoch 4/5\n",
            "500/500 [==============================] - 12s 24ms/step - loss: 1.3826 - accuracy: 0.5070 - val_loss: 1.4377 - val_accuracy: 0.4889\n",
            "Epoch 5/5\n",
            "500/500 [==============================] - 12s 24ms/step - loss: 1.2466 - accuracy: 0.5614 - val_loss: 1.3073 - val_accuracy: 0.5480\n"
          ],
          "name": "stdout"
        },
        {
          "output_type": "execute_result",
          "data": {
            "text/plain": [
              "<tensorflow.python.keras.callbacks.History at 0x7fddc45fc668>"
            ]
          },
          "metadata": {
            "tags": []
          },
          "execution_count": 40
        }
      ]
    },
    {
      "cell_type": "code",
      "metadata": {
        "id": "Zlyt2xtGIBrn",
        "colab": {
          "base_uri": "https://localhost:8080/",
          "height": 548
        },
        "outputId": "89a1d486-3752-4785-a608-795f5fa12d2b"
      },
      "source": [
        "model2 = Model(inputs=input_layer, outputs=dense_layer1)\n",
        "model2.summary()\n",
        "model2.predict(x_test[0:1])"
      ],
      "execution_count": null,
      "outputs": [
        {
          "output_type": "stream",
          "text": [
            "Model: \"model_13\"\n",
            "_________________________________________________________________\n",
            "Layer (type)                 Output Shape              Param #   \n",
            "=================================================================\n",
            "input_12 (InputLayer)        [(None, 32, 32, 3)]       0         \n",
            "_________________________________________________________________\n",
            "conv2d_13 (Conv2D)           (None, 32, 32, 150)       11400     \n",
            "_________________________________________________________________\n",
            "conv2d_14 (Conv2D)           (None, 32, 32, 150)       202650    \n",
            "_________________________________________________________________\n",
            "max_pooling2d_14 (MaxPooling (None, 16, 16, 150)       0         \n",
            "_________________________________________________________________\n",
            "flatten_11 (Flatten)         (None, 38400)             0         \n",
            "_________________________________________________________________\n",
            "dense_20 (Dense)             (None, 50)                1920050   \n",
            "=================================================================\n",
            "Total params: 2,134,100\n",
            "Trainable params: 2,134,100\n",
            "Non-trainable params: 0\n",
            "_________________________________________________________________\n"
          ],
          "name": "stdout"
        },
        {
          "output_type": "execute_result",
          "data": {
            "text/plain": [
              "array([[ 0.        ,  0.        ,  0.        ,  0.6099334 ,  0.        ,\n",
              "         0.        ,  0.        , 21.125837  ,  0.        ,  0.        ,\n",
              "         0.        ,  0.        ,  6.225261  ,  0.        ,  0.        ,\n",
              "         0.        , 10.830847  ,  0.        ,  0.        ,  0.        ,\n",
              "         0.        ,  0.        ,  0.        ,  0.        ,  0.        ,\n",
              "         0.        ,  0.        ,  3.3172615 , 15.093008  ,  0.        ,\n",
              "        26.103418  ,  0.        ,  0.        ,  0.        ,  0.        ,\n",
              "         0.        ,  0.79663074,  0.        ,  0.        ,  0.        ,\n",
              "         0.        ,  0.        ,  0.        ,  0.        ,  8.329834  ,\n",
              "         0.        ,  0.        ,  8.281407  ,  0.        ,  0.        ]],\n",
              "      dtype=float32)"
            ]
          },
          "metadata": {
            "tags": []
          },
          "execution_count": 18
        }
      ]
    },
    {
      "cell_type": "code",
      "metadata": {
        "id": "KHajDp5XIXtx",
        "colab": {
          "base_uri": "https://localhost:8080/",
          "height": 343
        },
        "outputId": "2aa10102-460e-44b2-a900-da0a1e2dffce"
      },
      "source": [
        "model2 = Model(inputs=input_layer, outputs=flatten_layer)\n",
        "model2.summary()\n",
        "model2.predict(x_test[0:1])"
      ],
      "execution_count": null,
      "outputs": [
        {
          "output_type": "stream",
          "text": [
            "Model: \"model_14\"\n",
            "_________________________________________________________________\n",
            "Layer (type)                 Output Shape              Param #   \n",
            "=================================================================\n",
            "input_12 (InputLayer)        [(None, 32, 32, 3)]       0         \n",
            "_________________________________________________________________\n",
            "conv2d_13 (Conv2D)           (None, 32, 32, 150)       11400     \n",
            "_________________________________________________________________\n",
            "conv2d_14 (Conv2D)           (None, 32, 32, 150)       202650    \n",
            "_________________________________________________________________\n",
            "max_pooling2d_14 (MaxPooling (None, 16, 16, 150)       0         \n",
            "_________________________________________________________________\n",
            "flatten_11 (Flatten)         (None, 38400)             0         \n",
            "=================================================================\n",
            "Total params: 214,050\n",
            "Trainable params: 214,050\n",
            "Non-trainable params: 0\n",
            "_________________________________________________________________\n"
          ],
          "name": "stdout"
        },
        {
          "output_type": "execute_result",
          "data": {
            "text/plain": [
              "array([[0., 0., 0., ..., 0., 0., 0.]], dtype=float32)"
            ]
          },
          "metadata": {
            "tags": []
          },
          "execution_count": 19
        }
      ]
    },
    {
      "cell_type": "code",
      "metadata": {
        "id": "y9oobFj4JfPE",
        "colab": {
          "base_uri": "https://localhost:8080/",
          "height": 360
        },
        "outputId": "b0df3c58-7e6f-4c7c-fd72-a5c4b3c7a3fd"
      },
      "source": [
        "model3 = Model(inputs=model.input, outputs=model.layers[-2].output)\n",
        "model3.summary()"
      ],
      "execution_count": null,
      "outputs": [
        {
          "output_type": "stream",
          "text": [
            "Model: \"model_23\"\n",
            "_________________________________________________________________\n",
            "Layer (type)                 Output Shape              Param #   \n",
            "=================================================================\n",
            "input_13 (InputLayer)        [(None, 32, 32, 3)]       0         \n",
            "_________________________________________________________________\n",
            "conv2d_15 (Conv2D)           (None, 32, 32, 150)       11400     \n",
            "_________________________________________________________________\n",
            "conv2d_16 (Conv2D)           (None, 32, 32, 150)       202650    \n",
            "_________________________________________________________________\n",
            "max_pooling2d_16 (MaxPooling (None, 16, 16, 150)       0         \n",
            "_________________________________________________________________\n",
            "flatten_12 (Flatten)         (None, 38400)             0         \n",
            "_________________________________________________________________\n",
            "dense1 (Dense)               (None, 50)                1920050   \n",
            "=================================================================\n",
            "Total params: 2,134,100\n",
            "Trainable params: 2,134,100\n",
            "Non-trainable params: 0\n",
            "_________________________________________________________________\n"
          ],
          "name": "stdout"
        }
      ]
    },
    {
      "cell_type": "code",
      "metadata": {
        "id": "3tAYJuBUIkwL",
        "colab": {
          "base_uri": "https://localhost:8080/",
          "height": 360
        },
        "outputId": "46ab9b74-dedc-4bf0-fdbe-89360bce93b2"
      },
      "source": [
        "model4 = Model(inputs=model.input, outputs=model.get_layer(\"dense1\").output)\n",
        "model4.summary()"
      ],
      "execution_count": null,
      "outputs": [
        {
          "output_type": "stream",
          "text": [
            "Model: \"model_24\"\n",
            "_________________________________________________________________\n",
            "Layer (type)                 Output Shape              Param #   \n",
            "=================================================================\n",
            "input_13 (InputLayer)        [(None, 32, 32, 3)]       0         \n",
            "_________________________________________________________________\n",
            "conv2d_15 (Conv2D)           (None, 32, 32, 150)       11400     \n",
            "_________________________________________________________________\n",
            "conv2d_16 (Conv2D)           (None, 32, 32, 150)       202650    \n",
            "_________________________________________________________________\n",
            "max_pooling2d_16 (MaxPooling (None, 16, 16, 150)       0         \n",
            "_________________________________________________________________\n",
            "flatten_12 (Flatten)         (None, 38400)             0         \n",
            "_________________________________________________________________\n",
            "dense1 (Dense)               (None, 50)                1920050   \n",
            "=================================================================\n",
            "Total params: 2,134,100\n",
            "Trainable params: 2,134,100\n",
            "Non-trainable params: 0\n",
            "_________________________________________________________________\n"
          ],
          "name": "stdout"
        }
      ]
    },
    {
      "cell_type": "code",
      "metadata": {
        "id": "4gqh8BKiI2sR",
        "colab": {
          "base_uri": "https://localhost:8080/",
          "height": 394
        },
        "outputId": "d0cee0db-05e5-457d-c802-e4e7bdd7b89b"
      },
      "source": [
        "last_layer = Dense(5)(model.get_layer(\"dense1\").output)\n",
        "model5 = Model(inputs=model.input,outputs=last_layer)\n",
        "model5.summary()"
      ],
      "execution_count": null,
      "outputs": [
        {
          "output_type": "stream",
          "text": [
            "Model: \"model_27\"\n",
            "_________________________________________________________________\n",
            "Layer (type)                 Output Shape              Param #   \n",
            "=================================================================\n",
            "input_13 (InputLayer)        [(None, 32, 32, 3)]       0         \n",
            "_________________________________________________________________\n",
            "conv2d_15 (Conv2D)           (None, 32, 32, 150)       11400     \n",
            "_________________________________________________________________\n",
            "conv2d_16 (Conv2D)           (None, 32, 32, 150)       202650    \n",
            "_________________________________________________________________\n",
            "max_pooling2d_16 (MaxPooling (None, 16, 16, 150)       0         \n",
            "_________________________________________________________________\n",
            "flatten_12 (Flatten)         (None, 38400)             0         \n",
            "_________________________________________________________________\n",
            "dense1 (Dense)               (None, 50)                1920050   \n",
            "_________________________________________________________________\n",
            "dense_27 (Dense)             (None, 5)                 255       \n",
            "=================================================================\n",
            "Total params: 2,134,355\n",
            "Trainable params: 2,134,355\n",
            "Non-trainable params: 0\n",
            "_________________________________________________________________\n"
          ],
          "name": "stdout"
        }
      ]
    },
    {
      "cell_type": "code",
      "metadata": {
        "id": "WjPWhKXKKqSd",
        "colab": {
          "base_uri": "https://localhost:8080/",
          "height": 394
        },
        "outputId": "b8878549-1dc3-4246-a44f-c16e2c74ea35"
      },
      "source": [
        "last_layer = Dense(5)(dense_layer1)\n",
        "model6 = Model(inputs=input_layer,outputs=last_layer)\n",
        "model6.summary()"
      ],
      "execution_count": null,
      "outputs": [
        {
          "output_type": "stream",
          "text": [
            "Model: \"model_28\"\n",
            "_________________________________________________________________\n",
            "Layer (type)                 Output Shape              Param #   \n",
            "=================================================================\n",
            "input_13 (InputLayer)        [(None, 32, 32, 3)]       0         \n",
            "_________________________________________________________________\n",
            "conv2d_15 (Conv2D)           (None, 32, 32, 150)       11400     \n",
            "_________________________________________________________________\n",
            "conv2d_16 (Conv2D)           (None, 32, 32, 150)       202650    \n",
            "_________________________________________________________________\n",
            "max_pooling2d_16 (MaxPooling (None, 16, 16, 150)       0         \n",
            "_________________________________________________________________\n",
            "flatten_12 (Flatten)         (None, 38400)             0         \n",
            "_________________________________________________________________\n",
            "dense1 (Dense)               (None, 50)                1920050   \n",
            "_________________________________________________________________\n",
            "dense_28 (Dense)             (None, 5)                 255       \n",
            "=================================================================\n",
            "Total params: 2,134,355\n",
            "Trainable params: 2,134,355\n",
            "Non-trainable params: 0\n",
            "_________________________________________________________________\n"
          ],
          "name": "stdout"
        }
      ]
    }
  ]
}